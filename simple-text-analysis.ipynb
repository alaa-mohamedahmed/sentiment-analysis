{
 "cells": [
  {
   "cell_type": "markdown",
   "id": "107f3b68",
   "metadata": {},
   "source": [
    "# Simple Text Analysis Using TextBlob\n",
    "\n",
    "We will use TextBlob to perform simple sentiment analysis on an online article. <br>Any article can be used for this, but I'm using a Wikipedia page about [Python.](https://en.wikipedia.org/wiki/Python_(programming_language)"
   ]
  },
  {
   "cell_type": "markdown",
   "id": "db6198e4",
   "metadata": {},
   "source": [
    "## Step 1: Install + Import Necessary Libraries"
   ]
  },
  {
   "cell_type": "code",
   "execution_count": null,
   "id": "3994bcae",
   "metadata": {},
   "outputs": [],
   "source": [
    "# !pip install textblob > This is the library we will use to perform basic NLP tasks\n",
    "# !pip install newspaper3k > This is the library we will use to scrape + extract information from online resources"
   ]
  },
  {
   "cell_type": "code",
   "execution_count": 1,
   "id": "75098e01",
   "metadata": {},
   "outputs": [],
   "source": [
    "from textblob import TextBlob\n",
    "from newspaper import Article "
   ]
  },
  {
   "cell_type": "markdown",
   "id": "687019a3",
   "metadata": {},
   "source": [
    "## Step 2: Reading Data"
   ]
  },
  {
   "cell_type": "code",
   "execution_count": 2,
   "id": "fc8416a8",
   "metadata": {},
   "outputs": [],
   "source": [
    "# Any url/article can be used for this analysis\n",
    "\n",
    "url = 'https://en.wikipedia.org/wiki/Python_(programming_language)'"
   ]
  },
  {
   "cell_type": "markdown",
   "id": "b4202d1f",
   "metadata": {},
   "source": [
    "## Step 3: Exploring + Preparing Data"
   ]
  },
  {
   "cell_type": "code",
   "execution_count": 3,
   "id": "8713f831",
   "metadata": {},
   "outputs": [],
   "source": [
    "article = Article(url)\n",
    "\n",
    "article.download()\n",
    "article.parse()\n",
    "article.nlp()"
   ]
  },
  {
   "cell_type": "code",
   "execution_count": 5,
   "id": "210d1277",
   "metadata": {},
   "outputs": [
    {
     "data": {
      "text/plain": [
       "'General-purpose programming languagePython is a high-level, general-purpose programming language.\\n[35][36]Guido van Rossum began working on Python in the late 1980s as a successor to the ABC programming language and first released it in 1991 as Python 0.9.0.\\nReleases of Python 3 include the 2to3 utility, which automates the translation of Python 2 code to Python 3.\\nObject-oriented programming and structured programming are fully supported, and many of their features support functional programming and aspect-oriented programming (including metaprogramming[68] and metaobjects).\\nPython 3.10 deprecated wstr (to be removed in Python 3.12; meaning Python extensions[172] need to be modified by then),[173] and added pattern matching to the language.'"
      ]
     },
     "execution_count": 5,
     "metadata": {},
     "output_type": "execute_result"
    }
   ],
   "source": [
    "text = article.summary # You can use entire text, but we will only use summary section for this analysis\n",
    "text"
   ]
  },
  {
   "cell_type": "markdown",
   "id": "ba65236a",
   "metadata": {},
   "source": [
    "## Step 4: Sentiment Analysis"
   ]
  },
  {
   "cell_type": "code",
   "execution_count": 6,
   "id": "eeda7645",
   "metadata": {},
   "outputs": [],
   "source": [
    "blob = TextBlob(text)\n",
    "\n",
    "sentiment = blob.sentiment.polarity"
   ]
  },
  {
   "cell_type": "markdown",
   "id": "ec37e2b8",
   "metadata": {},
   "source": [
    "The above code will give us a score that falls between **-1 to +1.** <br>\n",
    "-1 means the algorithm has detected a \"negative\" tone in the text, while +1 means a \"positive\" tone. The closer the score is to zero, the more \"neutral\" the algorithm deems the analyzed text to be."
   ]
  },
  {
   "cell_type": "code",
   "execution_count": 7,
   "id": "d966530c",
   "metadata": {},
   "outputs": [
    {
     "name": "stdout",
     "output_type": "stream",
     "text": [
      "0.15\n"
     ]
    }
   ],
   "source": [
    "print(sentiment)"
   ]
  },
  {
   "cell_type": "markdown",
   "id": "ab763752",
   "metadata": {},
   "source": [
    "## Step 5: Results"
   ]
  },
  {
   "cell_type": "markdown",
   "id": "1491b492",
   "metadata": {},
   "source": [
    "The result for the above article is 0.15, which makes sense given that it's just a Wikipedia page about Python. <br>\n",
    "It's important to note that this is a very basic method of performing sentiment analysis. The results of this model aren't very accurate overall, and they don't perform well when it comes to detecting sarcasm, humour etc., <br>\n",
    "For more advanced analysis, I recommend using a more complex model like Roberta's Transformers."
   ]
  },
  {
   "cell_type": "code",
   "execution_count": null,
   "id": "0d80cce0",
   "metadata": {},
   "outputs": [],
   "source": []
  }
 ],
 "metadata": {
  "kernelspec": {
   "display_name": "Python 3 (ipykernel)",
   "language": "python",
   "name": "python3"
  },
  "language_info": {
   "codemirror_mode": {
    "name": "ipython",
    "version": 3
   },
   "file_extension": ".py",
   "mimetype": "text/x-python",
   "name": "python",
   "nbconvert_exporter": "python",
   "pygments_lexer": "ipython3",
   "version": "3.11.3"
  }
 },
 "nbformat": 4,
 "nbformat_minor": 5
}
